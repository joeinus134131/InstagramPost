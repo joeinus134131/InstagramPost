{
  "nbformat": 4,
  "nbformat_minor": 0,
  "metadata": {
    "colab": {
      "provenance": [],
      "mount_file_id": "1sVHUUX0Z2kwgBOVNTR2xYDRPapE6EfPd",
      "authorship_tag": "ABX9TyMVBnawQ6zfWwPb1f5EZkq2",
      "include_colab_link": true
    },
    "kernelspec": {
      "name": "python3",
      "display_name": "Python 3"
    },
    "language_info": {
      "name": "python"
    }
  },
  "cells": [
    {
      "cell_type": "markdown",
      "metadata": {
        "id": "view-in-github",
        "colab_type": "text"
      },
      "source": [
        "<a href=\"https://colab.research.google.com/github/joeinus134131/InstagramPost/blob/main/Convert_pdf_to_docx.ipynb\" target=\"_parent\"><img src=\"https://colab.research.google.com/assets/colab-badge.svg\" alt=\"Open In Colab\"/></a>"
      ]
    },
    {
      "cell_type": "code",
      "execution_count": null,
      "metadata": {
        "id": "EFbJDnkao0WN",
        "colab": {
          "base_uri": "https://localhost:8080/"
        },
        "outputId": "48d8603e-0719-4636-c119-c6eebd1ae682"
      },
      "outputs": [
        {
          "output_type": "stream",
          "name": "stdout",
          "text": [
            "Looking in indexes: https://pypi.org/simple, https://us-python.pkg.dev/colab-wheels/public/simple/\n",
            "Collecting PyPDF2\n",
            "  Downloading pypdf2-3.0.1-py3-none-any.whl (232 kB)\n",
            "\u001b[2K     \u001b[90m━━━━━━━━━━━━━━━━━━━━━━━━━━━━━━━━━━━━━━━\u001b[0m \u001b[32m232.6/232.6 KB\u001b[0m \u001b[31m3.8 MB/s\u001b[0m eta \u001b[36m0:00:00\u001b[0m\n",
            "\u001b[?25hRequirement already satisfied: typing_extensions>=3.10.0.0 in /usr/local/lib/python3.8/dist-packages (from PyPDF2) (4.4.0)\n",
            "Installing collected packages: PyPDF2\n",
            "Successfully installed PyPDF2-3.0.1\n"
          ]
        }
      ],
      "source": [
        "pip install PyPDF2"
      ]
    },
    {
      "cell_type": "code",
      "source": [
        "import PyPDF2"
      ],
      "metadata": {
        "id": "54FpeRxJpR1j"
      },
      "execution_count": null,
      "outputs": []
    },
    {
      "cell_type": "code",
      "source": [
        "with open(\"/content/drive/MyDrive/Colab Notebooks/datasets/Surat Persetujuan Simplifikasi Upah 2023.pdf\", 'rb') as pdf_file:\n",
        "  pdf_reader = PyPDF2.PdfReader(pdf_file)\n",
        "\n",
        "  with open(\"/content/drive/MyDrive/Colab Notebooks/datasets/data.docx\", 'w') as doc_file:\n",
        "    for page in range(len(pdf_reader.pages)):\n",
        "      text = pdf_reader.pages[page].extract_text()\n",
        "      doc_file.write(text)"
      ],
      "metadata": {
        "id": "7bGgHu4EpbMa"
      },
      "execution_count": null,
      "outputs": []
    }
  ]
}